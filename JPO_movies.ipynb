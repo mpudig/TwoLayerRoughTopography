{
 "cells": [
  {
   "cell_type": "code",
   "execution_count": 1,
   "id": "b30b99bd-6bb4-4f37-a707-e7df724ecfd5",
   "metadata": {},
   "outputs": [],
   "source": [
    "import numpy as np\n",
    "import xarray as xr\n",
    "import xrft\n",
    "import matplotlib.pyplot as plt\n",
    "import matplotlib.colors as pltcolors\n",
    "import cmocean as cm\n",
    " \n",
    "def_colours = [(0.00000, 0.44706, 0.69804),\n",
    "          (0.00000, 0.61961, 0.45098),\n",
    "          (0.94118, 0.89412, 0.25882),\n",
    "          (0.90196, 0.62353, 0.00000),\n",
    "          (0.83529, 0.36863, 0.00000),\n",
    "          (0.80000, 0.47451, 0.65490),\n",
    "          (0.33725, 0.70588, 0.91373)]"
   ]
  },
  {
   "cell_type": "code",
   "execution_count": 2,
   "id": "d6a81fb0-1990-4cbb-b3dc-db384bb0ed96",
   "metadata": {},
   "outputs": [],
   "source": [
    "path = '/scratch/mp6191/GeophysicalFlows_expts/MovieRuns'\n",
    "expts = ['/kappa02_notopo', '/kappa02_kt25_h4', '/kappa02_kt25_h6', '/kappa02_kt25_h12', '/kappa02_GJ_h4', '/kappa02_GJ_h8']\n",
    "names = [expt[1:] for expt in expts]\n",
    "paths = [path + expt + '/output' + expt + '.nc' for expt in expts]\n",
    "\n",
    "# Import simulations\n",
    "expt_dict = dict()\n",
    "for i in range(len(expts)):\n",
    "    name = names[i]\n",
    "    path = paths[i]\n",
    "    ds = xr.open_dataset(path)\n",
    "    expt_dict[name] = ds"
   ]
  },
  {
   "cell_type": "code",
   "execution_count": 3,
   "id": "681bd28e-ac68-42de-b30b-85660ae835df",
   "metadata": {},
   "outputs": [],
   "source": [
    "nx = 1024\n",
    "ny = nx\n",
    "nk = nx\n",
    "nl = ny\n",
    "nz = 2\n",
    "Ld = 15e3\n",
    "ld = 2 * np.pi * Ld\n",
    "L = 25 * ld\n",
    "f = 1e-4\n",
    "beta = 0.\n",
    "delta = 1\n",
    "\n",
    "F1 = Ld ** -2 / (1. + delta)\n",
    "F2 = delta * F1\n",
    "\n",
    "dk = 2 * np.pi / L\n",
    "k = dk * np.append( np.arange(0, nx / 2), np.arange(- nx / 2, 0) )\n",
    "k = np.fft.fftshift(k)\n",
    "l = k\n",
    "kk, ll = np.meshgrid(k, l)\n",
    "K2 = kk ** 2 + ll ** 2\n",
    "\n",
    "# Stretching matrix\n",
    "S = np.array([[-F1, F1],\n",
    "              [F2, -F2]])\n",
    "\n",
    "a = np.ma.zeros((nz, nz, nl, nk), np.dtype('float64'))\n",
    "det_inv = np.ma.masked_equal(K2 * (K2 + F1 + F2), 0.) ** -1\n",
    "a[0,0] = -(K2 + F2) * det_inv\n",
    "a[0,1] = -F1 * det_inv\n",
    "a[1,0] = -F2 * det_inv\n",
    "a[1,1] = -(K2 + F1) * det_inv\n",
    "a = a.filled(1e20)\n",
    "\n",
    "\n",
    "def psih_func(a, q):\n",
    "    '''\n",
    "    Function for calculating Fourier space stream function from PV field at all times.\n",
    "    '''\n",
    "    \n",
    "    qh = xrft.fft(q, dim = ['x', 'y'], true_phase = False, true_amplitude = False)\n",
    "\n",
    "    a = xr.DataArray(data = a,\n",
    "                         dims = ['i', 'lev', 'freq_y', 'freq_x'],\n",
    "                         coords = dict(\n",
    "                         freq_x = ('freq_x', qh.freq_x.values),\n",
    "                         freq_y = ('freq_y', qh.freq_y.values),\n",
    "                         lev = ('lev', [1, 2]),\n",
    "                         i = ('i', [1, 2]))\n",
    "                    )\n",
    "\n",
    "    psih = xr.dot(a, qh, dims = ['lev']).rename({'i' : 'lev'})\n",
    "    \n",
    "    return psih\n",
    "\n",
    "def psi_func(psih, q):\n",
    "    '''\n",
    "    Function for calculating real space stream function from Fourier space stream function at all times.\n",
    "    '''\n",
    "        \n",
    "    psi = xrft.ifft(psih, dim = ['freq_x', 'freq_y'], true_phase = False, true_amplitude = False).real.rename('psi')\n",
    "    psi = psi.assign_coords(dict(x = ('x', q.x.values), y = ('y', q.y.values)))\n",
    "    \n",
    "    return psi\n",
    "\n",
    "def zeta_func(K2, psih, q):\n",
    "    '''\n",
    "    Function for calculating real space vorticity from Fourier space stream function at all times.\n",
    "    '''\n",
    "    \n",
    "    zetah = - K2[np.newaxis, :, :, np.newaxis] * psih\n",
    "    zeta = xrft.ifft(zetah, dim = ['freq_x', 'freq_y'], true_phase = False, true_amplitude = False).real.rename('zeta')\n",
    "    zeta = zeta.assign_coords(dict(x = ('x', q.x.values), y = ('y', q.y.values)))\n",
    "    \n",
    "    return zeta\n",
    "\n",
    "def u_func(ll, psih, q):\n",
    "    '''\n",
    "    Function for calculating zonal velocity in real space from Fourier space stream funciton function at all times.\n",
    "    '''\n",
    "    \n",
    "    uh = -1j * ll[np.newaxis, :, :, np.newaxis] * psih\n",
    "    u = xrft.ifft(uh, dim = ['freq_x', 'freq_y'], true_phase = False, true_amplitude = False).real.rename('u')\n",
    "    u = u.assign_coords(dict(x = ('x', q.x.values), y = ('y', q.y.values)))\n",
    "    \n",
    "    return u\n",
    "\n",
    "def v_func(kk, psih, q):\n",
    "    '''\n",
    "    Function for calculating meridional velocity in real space from Fourier space stream funciton function at all times.\n",
    "    '''\n",
    "    \n",
    "    vh = 1j * kk[np.newaxis, :, :, np.newaxis] * psih\n",
    "    v = xrft.ifft(vh, dim = ['freq_x', 'freq_y'], true_phase = False, true_amplitude = False).real.rename('v')\n",
    "    v = v.assign_coords(dict(x = ('x', q.x.values), y = ('y', q.y.values)))\n",
    "    \n",
    "    return v"
   ]
  },
  {
   "cell_type": "code",
   "execution_count": 23,
   "id": "64a7a51e-3f25-4e2c-93cf-f4668714565f",
   "metadata": {},
   "outputs": [
    {
     "name": "stderr",
     "output_type": "stream",
     "text": [
      "/ext3/miniconda3/lib/python3.10/site-packages/tqdm/auto.py:21: TqdmWarning: IProgress not found. Please update jupyter and ipywidgets. See https://ipywidgets.readthedocs.io/en/stable/user_install.html\n",
      "  from .autonotebook import tqdm as notebook_tqdm\n"
     ]
    }
   ],
   "source": [
    "from xmovie import Movie\n",
    "import matplotlib.ticker as tkr\n",
    "\n",
    "def numfmt(x, pos):\n",
    "    s = '{}'.format(int(x))\n",
    "    return s\n",
    "fmt = tkr.FuncFormatter(numfmt)\n",
    "\n",
    "# This defines a custom plotting function that will plot each variable next to each other\n",
    "\n",
    "Ld = 15e3\n",
    "U0 = 0.01\n",
    "\n",
    "fontsize = 16\n",
    "def custom_plotfunc(ds, fig, i, *args, **kwargs):\n",
    "    (ax1, ax2) = fig.subplots(ncols = 2, sharey=True)\n",
    "    fig.set_figheight(7)\n",
    "    fig.set_figwidth(18)\n",
    "    \n",
    "    t = ds.time.values\n",
    "    ti = format(t[i] * U0 / Ld, '.2f')\n",
    "    x = ds.x.values / Ld\n",
    "    y = ds.y.values / Ld\n",
    "    xx, yy = np.meshgrid(x, y)\n",
    "    zeta1 = zeta.isel(time = i).isel(lev = 0)\n",
    "    zeta2 = zeta.isel(time = i).isel(lev = 1)\n",
    "    \n",
    "    vmax = 300\n",
    "    vmin = -vmax\n",
    "\n",
    "    cmap = cm.cm.curl\n",
    "    \n",
    "    ax = ax1\n",
    "    im = ax.pcolormesh(xx, yy, zeta1, vmin = -vmax, vmax = vmax, cmap = cmap)\n",
    "    cbar = plt.colorbar(im, ax = ax, ticks = np.linspace(-vmax, vmax, 7, endpoint = True)) \n",
    "    # Tidy up the figure\n",
    "    ax.set_title(f'relative vorticity, upper layer \\n t = ' + ti + '$U / \\lambda$', fontsize = fontsize) \n",
    "    ax.set_xlabel(r'$x / \\lambda$', fontsize=fontsize)\n",
    "    ax.set_ylabel(r'$y / \\lambda$', fontsize=fontsize)\n",
    "    ax.tick_params(axis='both', which='major', labelsize = fontsize)\n",
    "    ax.xaxis.set_major_formatter(fmt)\n",
    "    ax.yaxis.set_major_formatter(fmt)\n",
    "\n",
    "    vmax = 150\n",
    "    vmin = -vmax\n",
    "    \n",
    "    ax = ax2\n",
    "    im = ax.pcolormesh(xx, yy, zeta2, vmin = -vmax, vmax = vmax, cmap = cmap)\n",
    "    cbar = plt.colorbar(im, ax = ax, ticks = np.linspace(-vmax, vmax, 7, endpoint = True)) \n",
    "    # Tidy up the figure\n",
    "    ax.set_title(f'relative vorticity, lower layer \\n t = ' + ti + '$U / \\lambda$', fontsize = fontsize) \n",
    "    ax.set_xlabel(r'$x / \\lambda$', fontsize=fontsize)\n",
    "    ax.set_ylabel('', fontsize=fontsize)\n",
    "    ax.tick_params(axis='both', which='major', labelsize = fontsize)\n",
    "    ax.xaxis.set_major_formatter(fmt)\n",
    "    ax.yaxis.set_major_formatter(fmt)"
   ]
  },
  {
   "cell_type": "code",
   "execution_count": 24,
   "id": "01bd2d3f-5c80-479d-b3d2-d8b14a983e5b",
   "metadata": {},
   "outputs": [
    {
     "name": "stderr",
     "output_type": "stream",
     "text": [
      "/ext3/miniconda3/lib/python3.10/site-packages/xmovie/core.py:348: UserWarning: The provided `plotfunc` does not provide the expected number of output arguments.            Expected a function `ax,pp =plotfunc(...)` but got %i output arguments. Inserting dummy values. This should not affect output. \n",
      "  warnings.warn(\n"
     ]
    },
    {
     "name": "stdout",
     "output_type": "stream",
     "text": [
      "Movie created at kappa02_notopo_zeta_layer.mp4\n"
     ]
    }
   ],
   "source": [
    "zeta = zeta.rename({'t': 'time'})\n",
    "mov_custom = Movie(zeta, custom_plotfunc, input_check = False)\n",
    "mov_custom.save(name + '_zeta_layer.mp4', framerate = 10, overwrite_existing = True)\n",
    "zeta = zeta.rename({'time': 't'})"
   ]
  },
  {
   "cell_type": "code",
   "execution_count": 25,
   "id": "a187eef3-c056-4a55-be55-7b709b4a84e0",
   "metadata": {},
   "outputs": [
    {
     "name": "stderr",
     "output_type": "stream",
     "text": [
      "/ext3/miniconda3/lib/python3.10/site-packages/xrft/xrft.py:573: FutureWarning: Default ifft's behaviour (lag=None) changed! Default value of lag was zero (centered output coordinates) and is now set to transformed coordinate's attribute: 'direct_lag'.\n",
      "  warnings.warn(msg, FutureWarning)\n"
     ]
    }
   ],
   "source": [
    "name = 'kappa02_kt25_h4'\n",
    "ds = expt_dict[name]\n",
    "q = ds.q\n",
    "psih = psih_func(a, q)\n",
    "zeta = zeta_func(K2, psih, q) * Ld / U0"
   ]
  },
  {
   "cell_type": "code",
   "execution_count": 26,
   "id": "309e6a78-4001-423e-9187-d4a18ed79b6e",
   "metadata": {},
   "outputs": [],
   "source": [
    "from xmovie import Movie\n",
    "import matplotlib.ticker as tkr\n",
    "\n",
    "def numfmt(x, pos):\n",
    "    s = '{}'.format(int(x))\n",
    "    return s\n",
    "fmt = tkr.FuncFormatter(numfmt)\n",
    "\n",
    "# This defines a custom plotting function that will plot each variable next to each other\n",
    "\n",
    "Ld = 15e3\n",
    "U0 = 0.01\n",
    "\n",
    "fontsize = 16\n",
    "def custom_plotfunc(ds, fig, i, *args, **kwargs):\n",
    "    (ax1, ax2) = fig.subplots(ncols = 2, sharey=True)\n",
    "    fig.set_figheight(7)\n",
    "    fig.set_figwidth(18)\n",
    "    \n",
    "    t = ds.time.values\n",
    "    ti = format(t[i] * U0 / Ld, '.2f')\n",
    "    x = ds.x.values / Ld\n",
    "    y = ds.y.values / Ld\n",
    "    xx, yy = np.meshgrid(x, y)\n",
    "    zeta1 = zeta.isel(time = i).isel(lev = 0)\n",
    "    zeta2 = zeta.isel(time = i).isel(lev = 1)\n",
    "    \n",
    "    vmax = 300\n",
    "    vmin = -vmax\n",
    "\n",
    "    cmap = cm.cm.curl\n",
    "    \n",
    "    ax = ax1\n",
    "    im = ax.pcolormesh(xx, yy, zeta1, vmin = -vmax, vmax = vmax, cmap = cmap)\n",
    "    cbar = plt.colorbar(im, ax = ax, ticks = np.linspace(-vmax, vmax, 7, endpoint = True)) \n",
    "    # Tidy up the figure\n",
    "    ax.set_title(f'relative vorticity, upper layer \\n t = ' + ti + '$U / \\lambda$', fontsize = fontsize) \n",
    "    ax.set_xlabel(r'$x / \\lambda$', fontsize=fontsize)\n",
    "    ax.set_ylabel(r'$y / \\lambda$', fontsize=fontsize)\n",
    "    ax.tick_params(axis='both', which='major', labelsize = fontsize)\n",
    "    ax.xaxis.set_major_formatter(fmt)\n",
    "    ax.yaxis.set_major_formatter(fmt)\n",
    "\n",
    "    vmax = 150\n",
    "    vmin = -vmax\n",
    "    \n",
    "    ax = ax2\n",
    "    im = ax.pcolormesh(xx, yy, zeta2, vmin = -vmax, vmax = vmax, cmap = cmap)\n",
    "    cbar = plt.colorbar(im, ax = ax, ticks = np.linspace(-vmax, vmax, 7, endpoint = True)) \n",
    "    # Tidy up the figure\n",
    "    ax.set_title(f'relative vorticity, lower layer \\n t = ' + ti + '$U / \\lambda$', fontsize = fontsize) \n",
    "    ax.set_xlabel(r'$x / \\lambda$', fontsize=fontsize)\n",
    "    ax.set_ylabel('', fontsize=fontsize)\n",
    "    ax.tick_params(axis='both', which='major', labelsize = fontsize)\n",
    "    ax.xaxis.set_major_formatter(fmt)\n",
    "    ax.yaxis.set_major_formatter(fmt)"
   ]
  },
  {
   "cell_type": "code",
   "execution_count": 27,
   "id": "5501bc33-7f9e-484a-87c1-430acabd4536",
   "metadata": {},
   "outputs": [
    {
     "name": "stderr",
     "output_type": "stream",
     "text": [
      "/ext3/miniconda3/lib/python3.10/site-packages/xmovie/core.py:348: UserWarning: The provided `plotfunc` does not provide the expected number of output arguments.            Expected a function `ax,pp =plotfunc(...)` but got %i output arguments. Inserting dummy values. This should not affect output. \n",
      "  warnings.warn(\n"
     ]
    },
    {
     "name": "stdout",
     "output_type": "stream",
     "text": [
      "Movie created at kappa02_kt25_h4_zeta_layer.mp4\n"
     ]
    }
   ],
   "source": [
    "zeta = zeta.rename({'t': 'time'})\n",
    "mov_custom = Movie(zeta, custom_plotfunc, input_check = False)\n",
    "mov_custom.save(name + '_zeta_layer.mp4', framerate = 10, overwrite_existing = True)\n",
    "zeta = zeta.rename({'time': 't'})"
   ]
  },
  {
   "cell_type": "code",
   "execution_count": 4,
   "id": "3edf8919-06fe-4c5e-b3e5-afcf513dc3dc",
   "metadata": {},
   "outputs": [],
   "source": [
    "Ld = 15e3\n",
    "U0 = 1e-2"
   ]
  },
  {
   "cell_type": "code",
   "execution_count": 5,
   "id": "c74a6e36-d840-499a-bb29-326ec2591456",
   "metadata": {},
   "outputs": [
    {
     "name": "stderr",
     "output_type": "stream",
     "text": [
      "/ext3/miniconda3/lib/python3.10/site-packages/xrft/xrft.py:573: FutureWarning: Default ifft's behaviour (lag=None) changed! Default value of lag was zero (centered output coordinates) and is now set to transformed coordinate's attribute: 'direct_lag'.\n",
      "  warnings.warn(msg, FutureWarning)\n"
     ]
    }
   ],
   "source": [
    "name = 'kappa02_kt25_h6'\n",
    "ds = expt_dict[name]\n",
    "q = ds.q\n",
    "psih = psih_func(a, q)\n",
    "zeta = zeta_func(K2, psih, q) * Ld / U0"
   ]
  },
  {
   "cell_type": "code",
   "execution_count": 6,
   "id": "00d930db-ddc6-42b5-82c5-84926279e8f8",
   "metadata": {},
   "outputs": [
    {
     "name": "stderr",
     "output_type": "stream",
     "text": [
      "/ext3/miniconda3/lib/python3.10/site-packages/tqdm/auto.py:21: TqdmWarning: IProgress not found. Please update jupyter and ipywidgets. See https://ipywidgets.readthedocs.io/en/stable/user_install.html\n",
      "  from .autonotebook import tqdm as notebook_tqdm\n"
     ]
    }
   ],
   "source": [
    "from xmovie import Movie\n",
    "import matplotlib.ticker as tkr\n",
    "\n",
    "def numfmt(x, pos):\n",
    "    s = '{}'.format(int(x))\n",
    "    return s\n",
    "fmt = tkr.FuncFormatter(numfmt)\n",
    "\n",
    "# This defines a custom plotting function that will plot each variable next to each other\n",
    "\n",
    "Ld = 15e3\n",
    "U0 = 0.01\n",
    "\n",
    "fontsize = 16\n",
    "def custom_plotfunc(ds, fig, i, *args, **kwargs):\n",
    "    (ax1, ax2) = fig.subplots(ncols = 2, sharey=True)\n",
    "    fig.set_figheight(7)\n",
    "    fig.set_figwidth(18)\n",
    "    \n",
    "    t = ds.time.values\n",
    "    ti = format(t[i] * U0 / Ld, '.2f')\n",
    "    x = ds.x.values / Ld\n",
    "    y = ds.y.values / Ld\n",
    "    xx, yy = np.meshgrid(x, y)\n",
    "    zeta1 = zeta.isel(time = i).isel(lev = 0)\n",
    "    zeta2 = zeta.isel(time = i).isel(lev = 1)\n",
    "    \n",
    "    vmax = 60\n",
    "    vmin = -vmax\n",
    "\n",
    "    cmap = cm.cm.curl\n",
    "    \n",
    "    ax = ax1\n",
    "    im = ax.pcolormesh(xx, yy, zeta1, vmin = -vmax, vmax = vmax, cmap = cmap)\n",
    "    cbar = plt.colorbar(im, ax = ax, ticks = np.linspace(-vmax, vmax, 7, endpoint = True)) \n",
    "    # Tidy up the figure\n",
    "    ax.set_title(f'relative vorticity, upper layer \\n t = ' + ti + '$U / \\lambda$', fontsize = fontsize) \n",
    "    ax.set_xlabel(r'$x / \\lambda$', fontsize=fontsize)\n",
    "    ax.set_ylabel(r'$y / \\lambda$', fontsize=fontsize)\n",
    "    ax.tick_params(axis='both', which='major', labelsize = fontsize)\n",
    "    ax.xaxis.set_major_formatter(fmt)\n",
    "    ax.yaxis.set_major_formatter(fmt)\n",
    "\n",
    "    vmax = 45\n",
    "    vmin = -vmax\n",
    "    \n",
    "    ax = ax2\n",
    "    im = ax.pcolormesh(xx, yy, zeta2, vmin = -vmax, vmax = vmax, cmap = cmap)\n",
    "    cbar = plt.colorbar(im, ax = ax, ticks = np.linspace(-vmax, vmax, 7, endpoint = True)) \n",
    "    # Tidy up the figure\n",
    "    ax.set_title(f'relative vorticity, lower layer \\n t = ' + ti + '$U / \\lambda$', fontsize = fontsize) \n",
    "    ax.set_xlabel(r'$x / \\lambda$', fontsize=fontsize)\n",
    "    ax.set_ylabel('', fontsize=fontsize)\n",
    "    ax.tick_params(axis='both', which='major', labelsize = fontsize)\n",
    "    ax.xaxis.set_major_formatter(fmt)\n",
    "    ax.yaxis.set_major_formatter(fmt)"
   ]
  },
  {
   "cell_type": "code",
   "execution_count": null,
   "id": "9c56c132-d629-4ca6-be59-7e5057ad34b9",
   "metadata": {},
   "outputs": [
    {
     "name": "stderr",
     "output_type": "stream",
     "text": [
      "/ext3/miniconda3/lib/python3.10/site-packages/xmovie/core.py:348: UserWarning: The provided `plotfunc` does not provide the expected number of output arguments.            Expected a function `ax,pp =plotfunc(...)` but got %i output arguments. Inserting dummy values. This should not affect output. \n",
      "  warnings.warn(\n"
     ]
    }
   ],
   "source": [
    "zeta = zeta.rename({'t': 'time'})\n",
    "mov_custom = Movie(zeta, custom_plotfunc, input_check = False)\n",
    "mov_custom.save(name + '_zeta_layer.mp4', framerate = 10, overwrite_existing = True)\n",
    "zeta = zeta.rename({'time': 't'})"
   ]
  },
  {
   "cell_type": "code",
   "execution_count": null,
   "id": "dc4dfda8-096b-4440-a530-9a20ad1dbf4d",
   "metadata": {},
   "outputs": [],
   "source": [
    "name = 'kappa02_kt25_h12'\n",
    "ds = expt_dict[name]\n",
    "q = ds.q\n",
    "psih = psih_func(a, q)\n",
    "zeta = zeta_func(K2, psih, q) * Ld / U0"
   ]
  },
  {
   "cell_type": "code",
   "execution_count": null,
   "id": "b014033c-cf11-44a4-8d7d-dbe8eb98dcba",
   "metadata": {},
   "outputs": [],
   "source": [
    "from xmovie import Movie\n",
    "import matplotlib.ticker as tkr\n",
    "\n",
    "def numfmt(x, pos):\n",
    "    s = '{}'.format(int(x))\n",
    "    return s\n",
    "fmt = tkr.FuncFormatter(numfmt)\n",
    "\n",
    "# This defines a custom plotting function that will plot each variable next to each other\n",
    "\n",
    "Ld = 15e3\n",
    "U0 = 0.01\n",
    "\n",
    "fontsize = 16\n",
    "def custom_plotfunc(ds, fig, i, *args, **kwargs):\n",
    "    (ax1, ax2) = fig.subplots(ncols = 2, sharey=True)\n",
    "    fig.set_figheight(7)\n",
    "    fig.set_figwidth(18)\n",
    "    \n",
    "    t = ds.time.values\n",
    "    ti = format(t[i] * U0 / Ld, '.2f')\n",
    "    x = ds.x.values / Ld\n",
    "    y = ds.y.values / Ld\n",
    "    xx, yy = np.meshgrid(x, y)\n",
    "    zeta1 = zeta.isel(time = i).isel(lev = 0)\n",
    "    zeta2 = zeta.isel(time = i).isel(lev = 1)\n",
    "    \n",
    "    vmax = 60\n",
    "    vmin = -vmax\n",
    "\n",
    "    cmap = cm.cm.curl\n",
    "    \n",
    "    ax = ax1\n",
    "    im = ax.pcolormesh(xx, yy, zeta1, vmin = -vmax, vmax = vmax, cmap = cmap)\n",
    "    cbar = plt.colorbar(im, ax = ax, ticks = np.linspace(-vmax, vmax, 7, endpoint = True)) \n",
    "    # Tidy up the figure\n",
    "    ax.set_title(f'relative vorticity, upper layer \\n t = ' + ti + '$U / \\lambda$', fontsize = fontsize) \n",
    "    ax.set_xlabel(r'$x / \\lambda$', fontsize=fontsize)\n",
    "    ax.set_ylabel(r'$y / \\lambda$', fontsize=fontsize)\n",
    "    ax.tick_params(axis='both', which='major', labelsize = fontsize)\n",
    "    ax.xaxis.set_major_formatter(fmt)\n",
    "    ax.yaxis.set_major_formatter(fmt)\n",
    "\n",
    "    vmax = 45\n",
    "    vmin = -vmax\n",
    "    \n",
    "    ax = ax2\n",
    "    im = ax.pcolormesh(xx, yy, zeta2, vmin = -vmax, vmax = vmax, cmap = cmap)\n",
    "    cbar = plt.colorbar(im, ax = ax, ticks = np.linspace(-vmax, vmax, 7, endpoint = True)) \n",
    "    # Tidy up the figure\n",
    "    ax.set_title(f'relative vorticity, lower layer \\n t = ' + ti + '$U / \\lambda$', fontsize = fontsize) \n",
    "    ax.set_xlabel(r'$x / \\lambda$', fontsize=fontsize)\n",
    "    ax.set_ylabel('', fontsize=fontsize)\n",
    "    ax.tick_params(axis='both', which='major', labelsize = fontsize)\n",
    "    ax.xaxis.set_major_formatter(fmt)\n",
    "    ax.yaxis.set_major_formatter(fmt)"
   ]
  },
  {
   "cell_type": "code",
   "execution_count": null,
   "id": "ae529817-2aef-4da0-a438-cf53a0b82de2",
   "metadata": {},
   "outputs": [],
   "source": [
    "zeta = zeta.rename({'t': 'time'})\n",
    "mov_custom = Movie(zeta, custom_plotfunc, input_check = False)\n",
    "mov_custom.save(name + '_zeta_layer.mp4', framerate = 10, overwrite_existing = True)\n",
    "zeta = zeta.rename({'time': 't'})"
   ]
  },
  {
   "cell_type": "code",
   "execution_count": 5,
   "id": "639cceb1-4d0f-46fb-96e1-08844b0f42ab",
   "metadata": {},
   "outputs": [],
   "source": [
    "Ld = 15e3\n",
    "U0 = 1e-2"
   ]
  },
  {
   "cell_type": "code",
   "execution_count": 6,
   "id": "0446b59c-10fe-44ad-bd1f-0248a2636a82",
   "metadata": {},
   "outputs": [
    {
     "name": "stderr",
     "output_type": "stream",
     "text": [
      "/ext3/miniconda3/lib/python3.10/site-packages/xrft/xrft.py:573: FutureWarning: Default ifft's behaviour (lag=None) changed! Default value of lag was zero (centered output coordinates) and is now set to transformed coordinate's attribute: 'direct_lag'.\n",
      "  warnings.warn(msg, FutureWarning)\n"
     ]
    }
   ],
   "source": [
    "name = 'kappa02_GJ_h4'\n",
    "ds = expt_dict[name]\n",
    "q = ds.q\n",
    "psih = psih_func(a, q)\n",
    "zeta = zeta_func(K2, psih, q) * Ld / U0"
   ]
  },
  {
   "cell_type": "code",
   "execution_count": 7,
   "id": "533d743c-e694-469d-8e28-94d513761f63",
   "metadata": {},
   "outputs": [
    {
     "name": "stderr",
     "output_type": "stream",
     "text": [
      "/ext3/miniconda3/lib/python3.10/site-packages/tqdm/auto.py:21: TqdmWarning: IProgress not found. Please update jupyter and ipywidgets. See https://ipywidgets.readthedocs.io/en/stable/user_install.html\n",
      "  from .autonotebook import tqdm as notebook_tqdm\n"
     ]
    }
   ],
   "source": [
    "from xmovie import Movie\n",
    "import matplotlib.ticker as tkr\n",
    "\n",
    "def numfmt(x, pos):\n",
    "    s = '{}'.format(int(x))\n",
    "    return s\n",
    "fmt = tkr.FuncFormatter(numfmt)\n",
    "\n",
    "# This defines a custom plotting function that will plot each variable next to each other\n",
    "\n",
    "Ld = 15e3\n",
    "U0 = 0.01\n",
    "\n",
    "fontsize = 16\n",
    "def custom_plotfunc(ds, fig, i, *args, **kwargs):\n",
    "    (ax1, ax2) = fig.subplots(ncols = 2, sharey=True)\n",
    "    fig.set_figheight(7)\n",
    "    fig.set_figwidth(18)\n",
    "    \n",
    "    t = ds.time.values\n",
    "    ti = format(t[i] * U0 / Ld, '.2f')\n",
    "    x = ds.x.values / Ld\n",
    "    y = ds.y.values / Ld\n",
    "    xx, yy = np.meshgrid(x, y)\n",
    "    zeta1 = zeta.isel(time = i).isel(lev = 0)\n",
    "    zeta2 = zeta.isel(time = i).isel(lev = 1)\n",
    "    \n",
    "    vmax = 300\n",
    "    vmin = -vmax\n",
    "\n",
    "    cmap = cm.cm.curl\n",
    "    \n",
    "    ax = ax1\n",
    "    im = ax.pcolormesh(xx, yy, zeta1, vmin = -vmax, vmax = vmax, cmap = cmap)\n",
    "    cbar = plt.colorbar(im, ax = ax, ticks = np.linspace(-vmax, vmax, 7, endpoint = True)) \n",
    "    # Tidy up the figure\n",
    "    ax.set_title(f'relative vorticity, upper layer \\n t = ' + ti + '$U / \\lambda$', fontsize = fontsize) \n",
    "    ax.set_xlabel(r'$x / \\lambda$', fontsize=fontsize)\n",
    "    ax.set_ylabel(r'$y / \\lambda$', fontsize=fontsize)\n",
    "    ax.tick_params(axis='both', which='major', labelsize = fontsize)\n",
    "    ax.xaxis.set_major_formatter(fmt)\n",
    "    ax.yaxis.set_major_formatter(fmt)\n",
    "\n",
    "    vmax = 150\n",
    "    vmin = -vmax\n",
    "    \n",
    "    ax = ax2\n",
    "    im = ax.pcolormesh(xx, yy, zeta2, vmin = -vmax, vmax = vmax, cmap = cmap)\n",
    "    cbar = plt.colorbar(im, ax = ax, ticks = np.linspace(-vmax, vmax, 7, endpoint = True)) \n",
    "    # Tidy up the figure\n",
    "    ax.set_title(f'relative vorticity, lower layer \\n t = ' + ti + '$U / \\lambda$', fontsize = fontsize) \n",
    "    ax.set_xlabel(r'$x / \\lambda$', fontsize=fontsize)\n",
    "    ax.set_ylabel('', fontsize=fontsize)\n",
    "    ax.tick_params(axis='both', which='major', labelsize = fontsize)\n",
    "    ax.xaxis.set_major_formatter(fmt)\n",
    "    ax.yaxis.set_major_formatter(fmt)"
   ]
  },
  {
   "cell_type": "code",
   "execution_count": 8,
   "id": "59e29add-e839-4a8a-9aa4-adb8dee8042a",
   "metadata": {},
   "outputs": [
    {
     "name": "stderr",
     "output_type": "stream",
     "text": [
      "/ext3/miniconda3/lib/python3.10/site-packages/xmovie/core.py:348: UserWarning: The provided `plotfunc` does not provide the expected number of output arguments.            Expected a function `ax,pp =plotfunc(...)` but got %i output arguments. Inserting dummy values. This should not affect output. \n",
      "  warnings.warn(\n"
     ]
    },
    {
     "name": "stdout",
     "output_type": "stream",
     "text": [
      "Movie created at kappa02_GJ_h4_zeta_layer.mp4\n"
     ]
    }
   ],
   "source": [
    "zeta = zeta.rename({'t': 'time'})\n",
    "mov_custom = Movie(zeta, custom_plotfunc, input_check = False)\n",
    "mov_custom.save(name + '_zeta_layer.mp4', framerate = 10, overwrite_existing = True)\n",
    "zeta = zeta.rename({'time': 't'})"
   ]
  },
  {
   "cell_type": "code",
   "execution_count": 9,
   "id": "fb6d1efc-4fae-4b22-b727-a04343c16f69",
   "metadata": {},
   "outputs": [
    {
     "name": "stderr",
     "output_type": "stream",
     "text": [
      "/ext3/miniconda3/lib/python3.10/site-packages/xrft/xrft.py:573: FutureWarning: Default ifft's behaviour (lag=None) changed! Default value of lag was zero (centered output coordinates) and is now set to transformed coordinate's attribute: 'direct_lag'.\n",
      "  warnings.warn(msg, FutureWarning)\n"
     ]
    }
   ],
   "source": [
    "name = 'kappa02_GJ_h8'\n",
    "ds = expt_dict[name]\n",
    "q = ds.q\n",
    "psih = psih_func(a, q)\n",
    "zeta = zeta_func(K2, psih, q) * Ld / U0"
   ]
  },
  {
   "cell_type": "code",
   "execution_count": 10,
   "id": "a2fd3a07-eb37-4f39-9550-563bd4645d90",
   "metadata": {},
   "outputs": [],
   "source": [
    "from xmovie import Movie\n",
    "import matplotlib.ticker as tkr\n",
    "\n",
    "def numfmt(x, pos):\n",
    "    s = '{}'.format(int(x))\n",
    "    return s\n",
    "fmt = tkr.FuncFormatter(numfmt)\n",
    "\n",
    "# This defines a custom plotting function that will plot each variable next to each other\n",
    "\n",
    "Ld = 15e3\n",
    "U0 = 0.01\n",
    "\n",
    "fontsize = 16\n",
    "def custom_plotfunc(ds, fig, i, *args, **kwargs):\n",
    "    (ax1, ax2) = fig.subplots(ncols = 2, sharey=True)\n",
    "    fig.set_figheight(7)\n",
    "    fig.set_figwidth(18)\n",
    "    \n",
    "    t = ds.time.values\n",
    "    ti = format(t[i] * U0 / Ld, '.2f')\n",
    "    x = ds.x.values / Ld\n",
    "    y = ds.y.values / Ld\n",
    "    xx, yy = np.meshgrid(x, y)\n",
    "    zeta1 = zeta.isel(time = i).isel(lev = 0)\n",
    "    zeta2 = zeta.isel(time = i).isel(lev = 1)\n",
    "    \n",
    "    vmax = 60\n",
    "    vmin = -vmax\n",
    "\n",
    "    cmap = cm.cm.curl\n",
    "    \n",
    "    ax = ax1\n",
    "    im = ax.pcolormesh(xx, yy, zeta1, vmin = -vmax, vmax = vmax, cmap = cmap)\n",
    "    cbar = plt.colorbar(im, ax = ax, ticks = np.linspace(-vmax, vmax, 7, endpoint = True)) \n",
    "    # Tidy up the figure\n",
    "    ax.set_title(f'relative vorticity, upper layer \\n t = ' + ti + '$U / \\lambda$', fontsize = fontsize) \n",
    "    ax.set_xlabel(r'$x / \\lambda$', fontsize=fontsize)\n",
    "    ax.set_ylabel(r'$y / \\lambda$', fontsize=fontsize)\n",
    "    ax.tick_params(axis='both', which='major', labelsize = fontsize)\n",
    "    ax.xaxis.set_major_formatter(fmt)\n",
    "    ax.yaxis.set_major_formatter(fmt)\n",
    "\n",
    "    vmax = 45\n",
    "    vmin = -vmax\n",
    "    \n",
    "    ax = ax2\n",
    "    im = ax.pcolormesh(xx, yy, zeta2, vmin = -vmax, vmax = vmax, cmap = cmap)\n",
    "    cbar = plt.colorbar(im, ax = ax, ticks = np.linspace(-vmax, vmax, 7, endpoint = True)) \n",
    "    # Tidy up the figure\n",
    "    ax.set_title(f'relative vorticity, lower layer \\n t = ' + ti + '$U / \\lambda$', fontsize = fontsize) \n",
    "    ax.set_xlabel(r'$x / \\lambda$', fontsize=fontsize)\n",
    "    ax.set_ylabel('', fontsize=fontsize)\n",
    "    ax.tick_params(axis='both', which='major', labelsize = fontsize)\n",
    "    ax.xaxis.set_major_formatter(fmt)\n",
    "    ax.yaxis.set_major_formatter(fmt)"
   ]
  },
  {
   "cell_type": "code",
   "execution_count": 11,
   "id": "67b26009-2c16-43fc-b4c4-a42993fc919c",
   "metadata": {},
   "outputs": [
    {
     "name": "stderr",
     "output_type": "stream",
     "text": [
      "/ext3/miniconda3/lib/python3.10/site-packages/xmovie/core.py:348: UserWarning: The provided `plotfunc` does not provide the expected number of output arguments.            Expected a function `ax,pp =plotfunc(...)` but got %i output arguments. Inserting dummy values. This should not affect output. \n",
      "  warnings.warn(\n"
     ]
    },
    {
     "name": "stdout",
     "output_type": "stream",
     "text": [
      "Movie created at kappa02_GJ_h8_zeta_layer.mp4\n"
     ]
    }
   ],
   "source": [
    "zeta = zeta.rename({'t': 'time'})\n",
    "mov_custom = Movie(zeta, custom_plotfunc, input_check = False)\n",
    "mov_custom.save(name + '_zeta_layer.mp4', framerate = 10, overwrite_existing = True)\n",
    "zeta = zeta.rename({'time': 't'})"
   ]
  }
 ],
 "metadata": {
  "kernelspec": {
   "display_name": "pyqg_dev_env",
   "language": "python",
   "name": "pyqg_dev_env"
  },
  "language_info": {
   "codemirror_mode": {
    "name": "ipython",
    "version": 3
   },
   "file_extension": ".py",
   "mimetype": "text/x-python",
   "name": "python",
   "nbconvert_exporter": "python",
   "pygments_lexer": "ipython3",
   "version": "3.10.13"
  }
 },
 "nbformat": 4,
 "nbformat_minor": 5
}
